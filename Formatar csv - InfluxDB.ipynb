{
 "cells": [
  {
   "cell_type": "code",
   "execution_count": 8,
   "id": "12c13e78",
   "metadata": {},
   "outputs": [
    {
     "name": "stderr",
     "output_type": "stream",
     "text": [
      "Progresso: 100%|█████████████████████████████████████████████████████████| 39771/39771 [00:00<00:00, 316441.20linhas/s]"
     ]
    },
    {
     "name": "stdout",
     "output_type": "stream",
     "text": [
      "Execução concluída!\n"
     ]
    },
    {
     "name": "stderr",
     "output_type": "stream",
     "text": [
      "\n"
     ]
    }
   ],
   "source": [
    "import csv\n",
    "from tqdm import tqdm\n",
    "\n",
    "# Abrir o arquivo CSV com espaço como separador\n",
    "with open('nivel_haccp_equipamentos2.csv', 'r') as arquivo_entrada:\n",
    "    # Ler as linhas do arquivo\n",
    "    linhas = arquivo_entrada.readlines()\n",
    "\n",
    "total_rows = len(linhas)\n",
    "\n",
    "#Comum Digital\n",
    "#header = 'id, data_hora, data_hora_timestamp, id_equipamento, digital_on'\n",
    "#Comum Energia\n",
    "#header = 'id,data_hora,data_hora_timestamp,id_equipamento,consumo,demanda,corrente_r,corrente_s,corrente_t,fator_potencia,tensao_r,tensao_s,tensao_t,generico1,generico2,generico3,generico4,generico5,generico6,ligado,comunicacao,programacao_noturna,erro,cod_erro'\n",
    "#Varejo Ambiente\n",
    "#header = 'id,data_hora,data_hora_timestamp,id_equipamento,temperatura,setpoint_controlador,degelo,setpoint_temp_fim_degelo,temperatura_degelo,max_tempo_degelo,superaquecimento,perc_valvula,ventilador,refrigeracao,var_comp,porta_aberta,bateria,umidade,nivel_co2,fim_ciclo,em_congelamento,alarme_ucf,alarme_com,saida_inversor,comp_forcado_off,temperatura_insuflamento,generico1,generico2,generico3,generico4,generico5,generico6,ligado,comunicacao,programacao_noturna,erro,cod_erro'\n",
    "#Varejo Glicol\n",
    "#header = 'id, data_hora, data_hora_timestamp, id_equipamento, temp_saida, setpoint_controlador, temp_retorno, succao, evaporacao, degelo, temp_final_degelo, valvula1, valvula2, valvula3, bomba1, bomba2, bomba3, perc_bomba1, perc_bomba2, perc_bomba3, perc_valvula1, perc_valvula2, perc_valvula3, perc_valvula4, perc_valvula5, perc_valvula6, sh_troc1, sh_troc2, sh_troc3, sh_troc4, sh_troc5, sh_troc6, pressao_recalque, falta_fluxo, dt_secundario, generico1, generico2, generico3, generico4, generico5, generico6, ligado, comunicacao, programacao_noturna, erro, cod_erro'\n",
    "#Varejo Rack\n",
    "#header = 'id, data_hora, data_hora_timestamp, id_equipamento, condensacao, evaporacao, subresfriamento, superaquecimento, temp_externa, perc_valvula_exp, degelo, comp1, comp2, comp3, comp4, comp5, comp6, perc_comp1, perc_comp2, perc_comp3, perc_comp4, perc_comp5, perc_comp6, temp_descarga, perc_vent_condensacao, cond1, cond2, cond3, cond4, cond5, cond6, cond7, cond8, baixo_nivel_liquido, capacidade_requerida, comp1_bloqueado, comp2_bloqueado, comp3_bloqueado, comp4_bloqueado, comp5_bloqueado, comp6_bloqueado, generico1, generico2, generico3, generico4, generico5, generico6, ligado, comunicacao, programacao_noturna, erro, cod_erro, fim_ciclo, em_congelamento'\n",
    "#Mecalor Chiller\n",
    "#header = 'id, data_hora, data_hora_timestamp, id_equipamento, set_temp_card, temp_card, tmpBx, prsAG, tmpTroc, tmpRet, deltaT, tmpFCond, vzAG, velAG, tmpSuc1, tmpEvp1, tmpCond1, tmpLiq1, prsEvp1, prsCond1, sh1, sb1, vee1, setSH1, setLowSH1, setLOP1, setMOP1, tmpSuc2, tmpEvp2, tmpCond2, tmpLiq2, prsEvp2, prsCond2, sh2, sb2, vee2, setSH2, setLowSH2, setLOP2, setMOP2, status_chiller, stsBmb1, stsBmb2, stsComp1, stsComp2, stsComp3, stsComp4, stsComp5, stsComp6, stsG1, stsG2, bypass, capC1, capG1, capC2, capG2, indCtrl, uniCtrl, compPID, hotgasPID, hoursCh, hoursBmb1, hoursBmb2, hoursComp1, hoursComp2, hoursComp3, hoursComp4, hoursComp5, hoursComp6, hoursFan1, hoursFan2'\n",
    "#Mecalor Temp Umid\n",
    "#header = 'id, data_hora, data_hora_timestamp, id_equipamento, temp_card, set_temp_card, umid_card, set_umid_card, status_card, ref_card, desum_card, ventilador'\n",
    "#Mecalor Tubo Fluxo\n",
    "#header = 'id, data_hora, data_hora_timestamp, id_equipamento, temp_card, set_temp_card, vazao_card, pressao_card, carga_term_card, deltat_card, temp_retorno, status_chiller_1, ch1Cap, ch1Set, tmpProc1, status_chiller_2, ch2Cap, ch2Set, tmpProc2'\n",
    "#Mecalor Drycooler\n",
    "#header = 'id, data_hora, data_hora_timestamp, id_equipamento, set_temp_card, temp_card, deltat_card, tmpInAG, vazao_card, tmpLeft, tmpRight, inPrs, outPrs, difPrs, tmpExt, umdExt, consD, consM, stsDC, stsHumid, stsEcon, stsFreeCooling, stsPrs, stsRes, stsSom, stsVis, velVent, stsWRep, stsTrayDrain'\n",
    "#Mecalor Turbocor\n",
    "#header = 'id, data_hora, data_hora_timestamp, id_equipamento, localoffon, remotestartsignal, remotestartsignalhli, chwflowstatus, cowflowstatus, chillerrunning, chwpumpstart, cowpumpstart, chwpumpstarthli, cowpumpstarthli, chilleralarm, chgloballockoutfault, system1active, system1lpalarm, system1lpfault, system1hpfault, system2active, system2lpalarm, system2lpfault, system2hpfault, comp1running, comp1manualresetfault, comp2running, comp2manualresetfault, comp3running, comp3manualresetfault, comp4running, comp4manualresetfault, primarystatusline1, primarystatusline2, secondarystatusline1, secondarystatusline2, userchwsetpoint, chwsetpointoffsethli, chwsetpointoffset10v, chwcontrolsetpoint, enteringchwrestarttemp, enteringchwtemp, leavingchwtemp, chwpressuredrop, chwflow, enteringcowtemp, leavingcowtemp, ambientairtemp, chillerdemand, capacitylimit, numberofsystems, numberofcomps, refrigerationcapacity, numberofcompsrunning, totalchillerinputpower, totalchillerinputamps, mainsvoltage, mainspowerfactor, chillerefficiency, chwpumpvsdoutput, cowpumpvsdoutput, cowpumppressratiotarget, system1evappressure, system1condpressure, system1evapapproach, system1condapproach, system1refrigsetpoint, system1refriglevel, system1exvposition, s1flashtankrefrigset, s1flashtankrefriglevel, s1flashtankexvposition, system1condfandemand, system2evappressure, system2condpressure, system2evapapproach, system2condapproach, system2refrigsetpoint, system2refriglevel, system2exvposition, s2flashtankrefrigset, s2flashtankrefriglevel, s2flashtankexvposition, system2condfandemand, comp1status, comp1controlstatus, comp1demand, comp1igvifvposition, comp1requestedkws, comp1inputkws, comp1inputamps, comp1actualrpm, comp1minimumrpm, comp1maximumrpm, comp1suctionpressure, comp1suctiontemp, comp1dischargepressure, comp1dischargetemp, comp1stagingvalvepos, comp1econovalvepos, comp1pressureratio, comp1invertertemp, comp1cavitytemperature, comp1dcvoltage, comp2status, comp2controlstatus, comp2demand, comp2igvifvposition, comp2requestedkws, comp2inputkws, comp2inputamps, comp2actualrpm, comp2minimumrpm, comp2maximumrpm, comp2suctionpressure, comp2suctiontemp, comp2dischargepressure, comp2dischargetemp, comp2stagingvalvepos, comp2econovalvepos, comp2pressureratio, comp2invertertemp, comp2cavitytemp, comp2dcvoltage, comp3status, comp3controlstatus, comp3demand, comp3igvifvposition, comp3requestedkws, comp3inputkws, comp3inputamps, comp3actualrpm, comp3minimumrpm, comp3maximumrpm, comp3suctionpressure, comp3suctiontemp, comp3dischargepressure, comp3dischargetemp, comp3stagingvalvepos, comp3econovalvepos, comp3pressureratio, comp3invertertemp, comp3cavitytemp, comp3dcvoltage, comp4status, comp4controlstatus, comp4demand, comp4igvifvposition, comp4requestedkws, comp4inputkws, comp4inputamps, comp4actualrpm, comp4minimumrpm, comp4maximumrpm, comp4suctionpressure, comp4suctiontemp, comp4dischargepressure, comp4dischargetemp, comp4stagingvalvepos, comp4econovalvepos, comp4pressureratio, comp4invertertemp, comp4cavitytemp, comp4dcvoltage'\n",
    "#Log Conexao\n",
    "#header = 'id, id_instalacao, status, data_hora, data_hora_timestamp, created_at, updated_at'\n",
    "#Log Qualidade\n",
    "#header = 'id, id_instalacao, internet, dados_uteis, qualidade, falhas, data_referencia, data_referencia_timestamp, created_at, updated_at'\n",
    "#Nivel Haccp Instalações\n",
    "#header = 'id, id_instalacao, score, confiabilidade, data_hora, data_referencia_timestamp'\n",
    "#Nivel Haccp Equipamentos\n",
    "#header = 'id, id_instalacao, id_equipamento, score, confiabilidade, data_hora, data_referencia_timestamp'\n",
    "#Nivel Performance Instalações\n",
    "#header = 'id, id_instalacao, performance, qtd_atencao, oportunidades, dados_coletados, data_hora, data_referencia_timestamp, created_at, updated_at'\n",
    "#Nivel Performance Variaveis\n",
    "#header = 'id, id_equipamento, tag_variavel, performance, atencao, dados_coletados, data_hora, data_referencia_timestamp, created_at, updated_at'\n",
    "\n",
    "header_list = header.split(',')\n",
    "# Criar um novo arquivo CSV com vírgula como separador\n",
    "with open('nivel_haccp_equipamentos_saida.csv', 'w', newline='') as arquivo_saida:\n",
    "    \n",
    "    writer = csv.writer(arquivo_saida, delimiter=',')\n",
    "    writer.writerow(header_list)\n",
    "    with tqdm(total=total_rows, desc=\"Progresso\", unit=\"linhas\") as progress_bar:\n",
    "        for linha in linhas:\n",
    "            nova_linha = linha.replace('\\\\N', 'null')\n",
    "            writer.writerow(nova_linha.strip().split('\t'))\n",
    "            progress_bar.update(1)\n",
    "        \n",
    "        \n",
    "print(\"Execução concluída!\")"
   ]
  },
  {
   "cell_type": "code",
   "execution_count": null,
   "id": "7d51ecbe",
   "metadata": {},
   "outputs": [],
   "source": []
  },
  {
   "cell_type": "code",
   "execution_count": null,
   "id": "ce2d0845",
   "metadata": {},
   "outputs": [],
   "source": []
  }
 ],
 "metadata": {
  "kernelspec": {
   "display_name": "Python 3 (ipykernel)",
   "language": "python",
   "name": "python3"
  },
  "language_info": {
   "codemirror_mode": {
    "name": "ipython",
    "version": 3
   },
   "file_extension": ".py",
   "mimetype": "text/x-python",
   "name": "python",
   "nbconvert_exporter": "python",
   "pygments_lexer": "ipython3",
   "version": "3.10.9"
  }
 },
 "nbformat": 4,
 "nbformat_minor": 5
}
